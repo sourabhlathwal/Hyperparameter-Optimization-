{
  "nbformat": 4,
  "nbformat_minor": 0,
  "metadata": {
    "colab": {
      "name": "Swarm.ipynb",
      "provenance": [],
      "collapsed_sections": []
    },
    "kernelspec": {
      "name": "python3",
      "display_name": "Python 3"
    },
    "language_info": {
      "name": "python"
    }
  },
  "cells": [
    {
      "cell_type": "markdown",
      "metadata": {
        "id": "UalAmbow_tma"
      },
      "source": [
        "## **Applying Hyperparameter Optimization for ML Models**\n",
        "\n",
        "\n"
      ]
    },
    {
      "cell_type": "code",
      "metadata": {
        "id": "8R2Q8ejDHdua"
      },
      "source": [
        "import numpy as np\n",
        "import pandas as pd\n",
        "import seaborn as sns\n",
        "import matplotlib.pyplot as plt\n",
        "from sklearn.model_selection import train_test_split,cross_val_score\n",
        "from sklearn.ensemble import RandomForestClassifier,RandomForestRegressor\n",
        "from sklearn.metrics import classification_report,confusion_matrix,accuracy_score\n",
        "from sklearn.neighbors import KNeighborsClassifier,KNeighborsRegressor\n",
        "from sklearn.svm import SVC,SVR\n",
        "from sklearn import datasets\n",
        "import scipy.stats as stats"
      ],
      "execution_count": 1,
      "outputs": []
    },
    {
      "cell_type": "code",
      "metadata": {
        "id": "ecpvCbuhMgaq"
      },
      "source": [
        "d = datasets.load_digits()\n",
        "X = d.data\n",
        "y = d.target"
      ],
      "execution_count": 2,
      "outputs": []
    },
    {
      "cell_type": "code",
      "metadata": {
        "colab": {
          "base_uri": "https://localhost:8080/",
          "height": 0
        },
        "id": "Uyn8rKpHMnNb",
        "outputId": "2abf2417-3348-4c56-92b0-48e72e556dc9"
      },
      "source": [
        "datasets.load_digits()\n"
      ],
      "execution_count": 3,
      "outputs": [
        {
          "output_type": "execute_result",
          "data": {
            "text/plain": [
              "{'DESCR': \".. _digits_dataset:\\n\\nOptical recognition of handwritten digits dataset\\n--------------------------------------------------\\n\\n**Data Set Characteristics:**\\n\\n    :Number of Instances: 1797\\n    :Number of Attributes: 64\\n    :Attribute Information: 8x8 image of integer pixels in the range 0..16.\\n    :Missing Attribute Values: None\\n    :Creator: E. Alpaydin (alpaydin '@' boun.edu.tr)\\n    :Date: July; 1998\\n\\nThis is a copy of the test set of the UCI ML hand-written digits datasets\\nhttps://archive.ics.uci.edu/ml/datasets/Optical+Recognition+of+Handwritten+Digits\\n\\nThe data set contains images of hand-written digits: 10 classes where\\neach class refers to a digit.\\n\\nPreprocessing programs made available by NIST were used to extract\\nnormalized bitmaps of handwritten digits from a preprinted form. From a\\ntotal of 43 people, 30 contributed to the training set and different 13\\nto the test set. 32x32 bitmaps are divided into nonoverlapping blocks of\\n4x4 and the number of on pixels are counted in each block. This generates\\nan input matrix of 8x8 where each element is an integer in the range\\n0..16. This reduces dimensionality and gives invariance to small\\ndistortions.\\n\\nFor info on NIST preprocessing routines, see M. D. Garris, J. L. Blue, G.\\nT. Candela, D. L. Dimmick, J. Geist, P. J. Grother, S. A. Janet, and C.\\nL. Wilson, NIST Form-Based Handprint Recognition System, NISTIR 5469,\\n1994.\\n\\n.. topic:: References\\n\\n  - C. Kaynak (1995) Methods of Combining Multiple Classifiers and Their\\n    Applications to Handwritten Digit Recognition, MSc Thesis, Institute of\\n    Graduate Studies in Science and Engineering, Bogazici University.\\n  - E. Alpaydin, C. Kaynak (1998) Cascading Classifiers, Kybernetika.\\n  - Ken Tang and Ponnuthurai N. Suganthan and Xi Yao and A. Kai Qin.\\n    Linear dimensionalityreduction using relevance weighted LDA. School of\\n    Electrical and Electronic Engineering Nanyang Technological University.\\n    2005.\\n  - Claudio Gentile. A New Approximate Maximal Margin Classification\\n    Algorithm. NIPS. 2000.\\n\",\n",
              " 'data': array([[ 0.,  0.,  5., ...,  0.,  0.,  0.],\n",
              "        [ 0.,  0.,  0., ..., 10.,  0.,  0.],\n",
              "        [ 0.,  0.,  0., ..., 16.,  9.,  0.],\n",
              "        ...,\n",
              "        [ 0.,  0.,  1., ...,  6.,  0.,  0.],\n",
              "        [ 0.,  0.,  2., ..., 12.,  0.,  0.],\n",
              "        [ 0.,  0., 10., ..., 12.,  1.,  0.]]),\n",
              " 'feature_names': ['pixel_0_0',\n",
              "  'pixel_0_1',\n",
              "  'pixel_0_2',\n",
              "  'pixel_0_3',\n",
              "  'pixel_0_4',\n",
              "  'pixel_0_5',\n",
              "  'pixel_0_6',\n",
              "  'pixel_0_7',\n",
              "  'pixel_1_0',\n",
              "  'pixel_1_1',\n",
              "  'pixel_1_2',\n",
              "  'pixel_1_3',\n",
              "  'pixel_1_4',\n",
              "  'pixel_1_5',\n",
              "  'pixel_1_6',\n",
              "  'pixel_1_7',\n",
              "  'pixel_2_0',\n",
              "  'pixel_2_1',\n",
              "  'pixel_2_2',\n",
              "  'pixel_2_3',\n",
              "  'pixel_2_4',\n",
              "  'pixel_2_5',\n",
              "  'pixel_2_6',\n",
              "  'pixel_2_7',\n",
              "  'pixel_3_0',\n",
              "  'pixel_3_1',\n",
              "  'pixel_3_2',\n",
              "  'pixel_3_3',\n",
              "  'pixel_3_4',\n",
              "  'pixel_3_5',\n",
              "  'pixel_3_6',\n",
              "  'pixel_3_7',\n",
              "  'pixel_4_0',\n",
              "  'pixel_4_1',\n",
              "  'pixel_4_2',\n",
              "  'pixel_4_3',\n",
              "  'pixel_4_4',\n",
              "  'pixel_4_5',\n",
              "  'pixel_4_6',\n",
              "  'pixel_4_7',\n",
              "  'pixel_5_0',\n",
              "  'pixel_5_1',\n",
              "  'pixel_5_2',\n",
              "  'pixel_5_3',\n",
              "  'pixel_5_4',\n",
              "  'pixel_5_5',\n",
              "  'pixel_5_6',\n",
              "  'pixel_5_7',\n",
              "  'pixel_6_0',\n",
              "  'pixel_6_1',\n",
              "  'pixel_6_2',\n",
              "  'pixel_6_3',\n",
              "  'pixel_6_4',\n",
              "  'pixel_6_5',\n",
              "  'pixel_6_6',\n",
              "  'pixel_6_7',\n",
              "  'pixel_7_0',\n",
              "  'pixel_7_1',\n",
              "  'pixel_7_2',\n",
              "  'pixel_7_3',\n",
              "  'pixel_7_4',\n",
              "  'pixel_7_5',\n",
              "  'pixel_7_6',\n",
              "  'pixel_7_7'],\n",
              " 'frame': None,\n",
              " 'images': array([[[ 0.,  0.,  5., ...,  1.,  0.,  0.],\n",
              "         [ 0.,  0., 13., ..., 15.,  5.,  0.],\n",
              "         [ 0.,  3., 15., ..., 11.,  8.,  0.],\n",
              "         ...,\n",
              "         [ 0.,  4., 11., ..., 12.,  7.,  0.],\n",
              "         [ 0.,  2., 14., ..., 12.,  0.,  0.],\n",
              "         [ 0.,  0.,  6., ...,  0.,  0.,  0.]],\n",
              " \n",
              "        [[ 0.,  0.,  0., ...,  5.,  0.,  0.],\n",
              "         [ 0.,  0.,  0., ...,  9.,  0.,  0.],\n",
              "         [ 0.,  0.,  3., ...,  6.,  0.,  0.],\n",
              "         ...,\n",
              "         [ 0.,  0.,  1., ...,  6.,  0.,  0.],\n",
              "         [ 0.,  0.,  1., ...,  6.,  0.,  0.],\n",
              "         [ 0.,  0.,  0., ..., 10.,  0.,  0.]],\n",
              " \n",
              "        [[ 0.,  0.,  0., ..., 12.,  0.,  0.],\n",
              "         [ 0.,  0.,  3., ..., 14.,  0.,  0.],\n",
              "         [ 0.,  0.,  8., ..., 16.,  0.,  0.],\n",
              "         ...,\n",
              "         [ 0.,  9., 16., ...,  0.,  0.,  0.],\n",
              "         [ 0.,  3., 13., ..., 11.,  5.,  0.],\n",
              "         [ 0.,  0.,  0., ..., 16.,  9.,  0.]],\n",
              " \n",
              "        ...,\n",
              " \n",
              "        [[ 0.,  0.,  1., ...,  1.,  0.,  0.],\n",
              "         [ 0.,  0., 13., ...,  2.,  1.,  0.],\n",
              "         [ 0.,  0., 16., ..., 16.,  5.,  0.],\n",
              "         ...,\n",
              "         [ 0.,  0., 16., ..., 15.,  0.,  0.],\n",
              "         [ 0.,  0., 15., ..., 16.,  0.,  0.],\n",
              "         [ 0.,  0.,  2., ...,  6.,  0.,  0.]],\n",
              " \n",
              "        [[ 0.,  0.,  2., ...,  0.,  0.,  0.],\n",
              "         [ 0.,  0., 14., ..., 15.,  1.,  0.],\n",
              "         [ 0.,  4., 16., ..., 16.,  7.,  0.],\n",
              "         ...,\n",
              "         [ 0.,  0.,  0., ..., 16.,  2.,  0.],\n",
              "         [ 0.,  0.,  4., ..., 16.,  2.,  0.],\n",
              "         [ 0.,  0.,  5., ..., 12.,  0.,  0.]],\n",
              " \n",
              "        [[ 0.,  0., 10., ...,  1.,  0.,  0.],\n",
              "         [ 0.,  2., 16., ...,  1.,  0.,  0.],\n",
              "         [ 0.,  0., 15., ..., 15.,  0.,  0.],\n",
              "         ...,\n",
              "         [ 0.,  4., 16., ..., 16.,  6.,  0.],\n",
              "         [ 0.,  8., 16., ..., 16.,  8.,  0.],\n",
              "         [ 0.,  1.,  8., ..., 12.,  1.,  0.]]]),\n",
              " 'target': array([0, 1, 2, ..., 8, 9, 8]),\n",
              " 'target_names': array([0, 1, 2, 3, 4, 5, 6, 7, 8, 9])}"
            ]
          },
          "metadata": {},
          "execution_count": 3
        }
      ]
    },
    {
      "cell_type": "markdown",
      "metadata": {
        "id": "5PfkKwu71YEd"
      },
      "source": [
        "## **Classifiers with Default Hyperparameters**"
      ]
    },
    {
      "cell_type": "code",
      "metadata": {
        "colab": {
          "base_uri": "https://localhost:8080/",
          "height": 0
        },
        "id": "P_IJ1VGq6o98",
        "outputId": "0649b626-b5df-4827-e152-65c8a1ea49b5"
      },
      "source": [
        "#Random Forest\n",
        "clf = RandomForestClassifier()\n",
        "clf.fit(X,y)\n",
        "scores = cross_val_score(clf, X, y, cv=3,scoring='accuracy')\n",
        "print(\"Accuracy:\"+ str(scores.mean()))"
      ],
      "execution_count": 9,
      "outputs": [
        {
          "output_type": "stream",
          "name": "stdout",
          "text": [
            "Accuracy:0.9398998330550917\n"
          ]
        }
      ]
    },
    {
      "cell_type": "code",
      "metadata": {
        "colab": {
          "base_uri": "https://localhost:8080/",
          "height": 0
        },
        "id": "8OJpIDwQNDCC",
        "outputId": "dcbc1b31-bcc1-4e34-93c7-d3f5cc6846d2"
      },
      "source": [
        "#SVM\n",
        "clf = SVC(gamma='scale')\n",
        "clf.fit(X,y)\n",
        "scores = cross_val_score(clf, X, y, cv=3,scoring='accuracy')\n",
        "print(\"Accuracy:\"+ str(scores.mean()))"
      ],
      "execution_count": 4,
      "outputs": [
        {
          "output_type": "stream",
          "name": "stdout",
          "text": [
            "Accuracy:0.9699499165275459\n"
          ]
        }
      ]
    },
    {
      "cell_type": "code",
      "metadata": {
        "colab": {
          "base_uri": "https://localhost:8080/",
          "height": 0
        },
        "id": "UghdQuVYN40u",
        "outputId": "127a6301-0b94-4d78-9bc4-b683601b6578"
      },
      "source": [
        "#KNN\n",
        "clf = KNeighborsClassifier()\n",
        "clf.fit(X,y)\n",
        "scores = cross_val_score(clf, X, y, cv=3,scoring='accuracy')\n",
        "print(\"Accuracy:\"+ str(scores.mean()))"
      ],
      "execution_count": 5,
      "outputs": [
        {
          "output_type": "stream",
          "name": "stdout",
          "text": [
            "Accuracy:0.9627156371730662\n"
          ]
        }
      ]
    },
    {
      "cell_type": "markdown",
      "metadata": {
        "id": "5r3qjr8Q1yGL"
      },
      "source": [
        "## **Hyperparameter Optimization Using PSO**\n",
        "Partical swarm optimization (PSO): Each particle in a swarm communicates with other particles to detect and update the current global optimum in each iteration until the final optimum is detected.\n"
      ]
    },
    {
      "cell_type": "code",
      "metadata": {
        "colab": {
          "base_uri": "https://localhost:8080/",
          "height": 0
        },
        "id": "y41m0b6OxGdO",
        "outputId": "51d39eed-0515-4863-feb3-d6c5e2bf8a9a"
      },
      "source": [
        "!pip install optunity"
      ],
      "execution_count": 6,
      "outputs": [
        {
          "output_type": "stream",
          "name": "stdout",
          "text": [
            "Requirement already satisfied: optunity in /usr/local/lib/python3.7/dist-packages (1.1.1)\n"
          ]
        }
      ]
    },
    {
      "cell_type": "code",
      "metadata": {
        "colab": {
          "base_uri": "https://localhost:8080/",
          "height": 0
        },
        "id": "b3h6KINx-YwB",
        "outputId": "a80742e5-3dab-4ad0-b084-42404f7dfcc3"
      },
      "source": [
        "#Random Forest\n",
        "import optunity\n",
        "import optunity.metrics\n",
        "\n",
        "data=X\n",
        "labels=y.tolist()\n",
        "# Define the hyperparameter configuration space\n",
        "search = {\n",
        "    'n_estimators': [10, 100],\n",
        "    'max_features': [1, 64],\n",
        "    'max_depth': [5,50],\n",
        "    \"min_samples_split\":[2,11],\n",
        "    \"min_samples_leaf\":[1,11],\n",
        "    \"criterion\":[0,1]\n",
        "         }\n",
        "# Define the objective function\n",
        "@optunity.cross_validated(x=data, y=labels, num_folds=3)\n",
        "def performance(x_train, y_train, x_test, y_test,n_estimators=None, max_features=None,max_depth=None,min_samples_split=None,min_samples_leaf=None,criterion=None):\n",
        "    # fit the model\n",
        "    if criterion<0.5:\n",
        "      cri='gini'\n",
        "    else:\n",
        "        cri='entropy'\n",
        "    model = RandomForestClassifier(n_estimators=int(n_estimators),\n",
        "                                   max_features=int(max_features),\n",
        "                                   max_depth=int(max_depth),\n",
        "                                   min_samples_split=int(min_samples_split),\n",
        "                                   min_samples_leaf=int(min_samples_leaf),\n",
        "                                   criterion=cri,\n",
        "                                  )\n",
        "    #predictions = model.predict(x_test)\n",
        "    scores=np.mean(cross_val_score(model, X, y, cv=3, n_jobs=-1,\n",
        "                                    scoring=\"accuracy\"))\n",
        "    #return optunity.metrics.roc_auc(y_test, predictions, positive=True)\n",
        "    return scores#optunity.metrics.accuracy(y_test, predictions)\n",
        "\n",
        "optimal_configuration, info, _ = optunity.maximize(performance,\n",
        "                                                  solver_name='particle swarm',\n",
        "                                                  num_evals=20,\n",
        "                                                   **search\n",
        "                                                  )\n",
        "print(optimal_configuration)\n",
        "print(\"Accuracy:\"+ str(info.optimum))"
      ],
      "execution_count": 10,
      "outputs": [
        {
          "output_type": "stream",
          "name": "stdout",
          "text": [
            "{'n_estimators': 48.57278714806698, 'max_features': 23.75307455666614, 'max_depth': 23.18896484375, 'min_samples_split': 8.16904296875, 'min_samples_leaf': 1.8896484375, 'criterion': 0.07626953125000002}\n",
            "Accuracy:0.9222778705249489\n"
          ]
        }
      ]
    },
    {
      "cell_type": "code",
      "metadata": {
        "colab": {
          "base_uri": "https://localhost:8080/",
          "height": 0
        },
        "id": "BKqm8oNLy7k0",
        "outputId": "74da7fa8-801f-4b71-b0b9-9e92594a3157"
      },
      "source": [
        "#SVM\n",
        "import optunity\n",
        "import optunity.metrics\n",
        "\n",
        "data=X\n",
        "labels=y.tolist()\n",
        "\n",
        "search = {\n",
        "    'C': (0,50),\n",
        "    'kernel':[0,4]\n",
        "         }\n",
        "@optunity.cross_validated(x=data, y=labels, num_folds=3)\n",
        "def performance(x_train, y_train, x_test, y_test,C=None,kernel=None):\n",
        "    # fit the model\n",
        "    if kernel<1:\n",
        "        ke='linear'\n",
        "    elif kernel<2:\n",
        "        ke='poly'\n",
        "    elif kernel<3:\n",
        "        ke='rbf'\n",
        "    else:\n",
        "        ke='sigmoid'\n",
        "    model = SVC(C=float(C),\n",
        "                kernel=ke\n",
        "                                  )\n",
        "    #predictions = model.predict(x_test)\n",
        "    scores=np.mean(cross_val_score(model, X, y, cv=3, n_jobs=-1,\n",
        "                                    scoring=\"accuracy\"))\n",
        "    #return optunity.metrics.roc_auc(y_test, predictions, positive=True)\n",
        "    return scores#optunity.metrics.accuracy(y_test, predictions)\n",
        "\n",
        "optimal_configuration, info, _ = optunity.maximize(performance,\n",
        "                                                  solver_name='particle swarm',\n",
        "                                                  num_evals=20,\n",
        "                                                      **search\n",
        "                                                  )\n",
        "print(optimal_configuration)\n",
        "print(\"Accuracy:\"+ str(info.optimum))"
      ],
      "execution_count": 7,
      "outputs": [
        {
          "output_type": "stream",
          "name": "stdout",
          "text": [
            "{'C': 15.2099609375, 'kernel': 2.435546875}\n",
            "Accuracy:0.9738452977184195\n"
          ]
        }
      ]
    },
    {
      "cell_type": "code",
      "metadata": {
        "colab": {
          "base_uri": "https://localhost:8080/",
          "height": 0
        },
        "id": "qeukdZ1V0HDE",
        "outputId": "108fc40c-2b30-4baf-da0d-e2541f0c2335"
      },
      "source": [
        "#KNN\n",
        "import optunity\n",
        "import optunity.metrics\n",
        "\n",
        "data=X\n",
        "labels=y.tolist()\n",
        "\n",
        "search = {\n",
        "    'n_neighbors': [1, 20],\n",
        "         }\n",
        "@optunity.cross_validated(x=data, y=labels, num_folds=3)\n",
        "def performance(x_train, y_train, x_test, y_test,n_neighbors=None):\n",
        "    # fit the model\n",
        "    model = KNeighborsClassifier(n_neighbors=int(n_neighbors),\n",
        "                                  )\n",
        "    scores=np.mean(cross_val_score(model, X, y, cv=3, n_jobs=-1,\n",
        "                                    scoring=\"accuracy\"))\n",
        "    return scores\n",
        "\n",
        "optimal_configuration, info, _ = optunity.maximize(performance,\n",
        "                                                  solver_name='particle swarm',\n",
        "                                                  num_evals=10,\n",
        "                                                   **search\n",
        "                                                  )\n",
        "print(optimal_configuration)\n",
        "print(\"Accuracy:\"+ str(info.optimum))"
      ],
      "execution_count": 8,
      "outputs": [
        {
          "output_type": "stream",
          "name": "stdout",
          "text": [
            "{'n_neighbors': 3.49560546875}\n",
            "Accuracy:0.9682804674457429\n"
          ]
        }
      ]
    }
  ]
}